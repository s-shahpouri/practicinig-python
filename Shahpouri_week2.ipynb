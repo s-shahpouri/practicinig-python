{
 "cells": [
  {
   "cell_type": "markdown",
   "metadata": {},
   "source": [
    "# Week 02 Assignment glucose level data\n",
    "\n",
    "\n",
    "Missing data occurs commonly in many data applications. Especially wearable sensor devices encounter measurement errors resulting in missing data. Although pandas can handle missing data, for instance, to exclude missing data in the descriptive analysis, we might decide to reshape our data to improve quality. We might consider excluding certain rows, columns, or decide to impute our data if we take an argumentative approach. This week we will work with sensor data of a semester 01 project. The data is timeseries related but a lot of sensor errors occurred. First, we inspect the quality data. Then we will work with imputation, interpolation, and smoothing techniques to overcome this issue of the error readings. Finaly we plot the data. Visualization is a method to translate data into information. As a data scientist you should be able to choose an appropiate visualizations. \n",
    "\n",
    "\n",
    "Keywords: data loading, data inspection, data exploration, data cleaning, impute data, missing data, timeseries, pandas, visualization, interactive plots, overflow/underflow error\n",
    "\n",
    "More to read\n",
    "- https://fennaf.gitbook.io/bfvm22prog1/\n",
    "- https://towardsdatascience.com/how-to-analyze-blood-glucose-data-with-python-data-science-packages-4f160f9564be\n",
    "\n",
    "\n",
    "More about pandas and bokeh programming\n",
    "- https://pandas.pydata.org/pandas-docs/stable/reference/api/pandas.DataFrame.interpolate.html\n",
    "- https://rubberduckdebugging.com/\n",
    "- https://docs.bokeh.org/en/latest/docs/gallery.html\n",
    "\n",
    "\n",
    "Learning objectives\n",
    "\n",
    "- Further practice numpy / pandas\n",
    "- Read, inspect, clean, and impute JSON data. Handle missing data\n",
    "- Apply different interpolation/smoothing techniques\n",
    "- Recognize overflow/underflow error\n",
    "- Perform visual and statistical analysis for time series data\n",
    "- Maintain development environment \n",
    "- Apply coding standards and FAIR principles\n",
    "\n",
    "\n",
    "Note: you can bring your own sensor data, but for the practical you need some missing data points. \n",
    "\n",
    "By the end of this week the student can:\n",
    "\n",
    "- load a json dataset \n",
    "- typecast the Pandas DataFrame to appropiate data types\n",
    "- inspect the dataset for quality and metadata information\n",
    "- add a column with interpolated data in Pandas DataFrame\n",
    "- perform visual analysis\n",
    "\n",
    "please add your own topics you want to learn here: https://padlet.com/ffeenstra1/69vbvy0l8t32rq55\n",
    "\n",
    "\n",
    "The assignment consists of 6 parts:\n",
    "\n",
    "- [part 1: load the data](#0)\n",
    "     - [Exercise 1.1](#ex-11)\n",
    "- [part 2: prepare for inspection](#1)\n",
    "     - [Exercise 2.1](#ex-21)\n",
    "- [part 3: inspect the data](#2)\n",
    "     - [Exercise 3.1](#ex-31)\n",
    "- [part 4: interpolate the data](#3)\n",
    "     - [Exercise 4.1](#ex-41)\n",
    "- [part 5: visualize the data](#4)\n",
    "     - [Exercise 5.1](#ex-51)\n",
    "- [part 6: Challenge](#5)\n",
    "     - [Exercise 6.1](#ex-61)\n",
    "\n",
    "Part 1 and 5 are mandatory, part 6 is optional (bonus)\n",
    "Mind you that you cannot copy code without referencing the code. If you copy code you need to be able to explain your code verbally and you will not get the full score. \n"
   ]
  },
  {
   "cell_type": "markdown",
   "metadata": {},
   "source": [
    "<a name='0'></a>\n",
    "## Part 1: Load the data\n",
    "\n",
    "Instructions: Load the json datafile `glucose.json` into a pandas dataframe. Check your dataframe with a `.head()` to compare with the expected outcome. \n",
    "\n",
    "Preferably we read the data not with a hard coded data path but using a config file. See https://fennaf.gitbook.io/bfvm22prog1/data-processing/configuration-files/yaml\n",
    "\n",
    "<details>    \n",
    "<summary>\n",
    "    <font size=\"3\" color=\"darkgreen\"><b>Hints</b></font>\n",
    "</summary>\n",
    "<ul><li>json.load() method reads a file, pd.read_json converts it to a Pandas DataFrame</li>\n",
    "    <li>when loading into a Pandas DataFrame use records orientation </li>\n",
    "</ul>\n",
    "</details>\n",
    "\n",
    "<a name='ex-11'></a>\n",
    "### Code your solution"
   ]
  },
  {
   "cell_type": "code",
   "execution_count": 32,
   "metadata": {},
   "outputs": [
    {
     "data": {
      "text/html": [
       "<div>\n",
       "<style scoped>\n",
       "    .dataframe tbody tr th:only-of-type {\n",
       "        vertical-align: middle;\n",
       "    }\n",
       "\n",
       "    .dataframe tbody tr th {\n",
       "        vertical-align: top;\n",
       "    }\n",
       "\n",
       "    .dataframe thead th {\n",
       "        text-align: right;\n",
       "    }\n",
       "</style>\n",
       "<table border=\"1\" class=\"dataframe\">\n",
       "  <thead>\n",
       "    <tr style=\"text-align: right;\">\n",
       "      <th></th>\n",
       "      <th>ID</th>\n",
       "      <th>time</th>\n",
       "      <th>recordtype</th>\n",
       "      <th>glucose</th>\n",
       "    </tr>\n",
       "  </thead>\n",
       "  <tbody>\n",
       "    <tr>\n",
       "      <th>0</th>\n",
       "      <td>2845.0</td>\n",
       "      <td>2019-04-25 00:08</td>\n",
       "      <td>1</td>\n",
       "      <td>109</td>\n",
       "    </tr>\n",
       "    <tr>\n",
       "      <th>1</th>\n",
       "      <td>2850.0</td>\n",
       "      <td>2019-04-25 00:50</td>\n",
       "      <td>1</td>\n",
       "      <td></td>\n",
       "    </tr>\n",
       "    <tr>\n",
       "      <th>2</th>\n",
       "      <td>2877.0</td>\n",
       "      <td>2019-04-25 07:02</td>\n",
       "      <td>1</td>\n",
       "      <td>123</td>\n",
       "    </tr>\n",
       "    <tr>\n",
       "      <th>3</th>\n",
       "      <td>2881.0</td>\n",
       "      <td>2019-04-25 07:34</td>\n",
       "      <td>1</td>\n",
       "      <td>158</td>\n",
       "    </tr>\n",
       "    <tr>\n",
       "      <th>4</th>\n",
       "      <td>2886.0</td>\n",
       "      <td>2019-04-25 08:19</td>\n",
       "      <td>1</td>\n",
       "      <td></td>\n",
       "    </tr>\n",
       "  </tbody>\n",
       "</table>\n",
       "</div>"
      ],
      "text/plain": [
       "       ID              time  recordtype glucose\n",
       "0  2845.0  2019-04-25 00:08           1     109\n",
       "1  2850.0  2019-04-25 00:50           1        \n",
       "2  2877.0  2019-04-25 07:02           1     123\n",
       "3  2881.0  2019-04-25 07:34           1     158\n",
       "4  2886.0  2019-04-25 08:19           1        "
      ]
     },
     "execution_count": 32,
     "metadata": {},
     "output_type": "execute_result"
    }
   ],
   "source": [
    "# CODE YOUR SOLUTION HERE\n",
    "import pandas as pd\n",
    "import json as js\n",
    "file  = open(\"glucose.json\",)\n",
    "\n",
    "df = js.load(file)\n",
    "df = pd.read_json(df)\n",
    "df.head()"
   ]
  },
  {
   "cell_type": "markdown",
   "metadata": {},
   "source": [
    "#### Expected outcome: "
   ]
  },
  {
   "cell_type": "raw",
   "metadata": {},
   "source": [
    "       ID              time  recordtype glucose\n",
    "0  2845.0  2019-04-25 00:08           1     109\n",
    "1  2850.0  2019-04-25 00:50           1        \n",
    "2  2877.0  2019-04-25 07:02           1     123\n",
    "3  2881.0  2019-04-25 07:34           1     158\n",
    "4  2886.0  2019-04-25 08:19           1        "
   ]
  },
  {
   "cell_type": "markdown",
   "metadata": {},
   "source": [
    "<a name='1'></a>\n",
    "## Part 2: Prepare the data\n",
    "\n",
    "Check the datatypes of your dataframe. The `glucose` field should be an integer, the `time` field should have a datetime format. If the datatypes are different you should typecast them to the right format.\n",
    "Make sure that your dataset is sorted by the time column\n",
    "\n",
    "\n",
    "<details>    \n",
    "<summary>\n",
    "    <font size=\"3\" color=\"darkgreen\"><b>Hints</b></font>\n",
    "</summary>\n",
    "<ul><li>use astype() method or pandas.DataFrame.to_datetime() for instance</li>\n",
    "    <li>make sure that the empty spaces are filled with NaN. Use errors='coerce'</li>\n",
    "    <li>set_index(), sort_index() and reset_index() are helpful to sort on index</li>\n",
    "</ul>\n",
    "</details>\n",
    "\n",
    "<a name='ex-21'></a>\n",
    "### Code your solution"
   ]
  },
  {
   "cell_type": "code",
   "execution_count": 33,
   "metadata": {},
   "outputs": [
    {
     "data": {
      "text/plain": [
       "time          datetime64[ns]\n",
       "ID                     int32\n",
       "recordtype             int64\n",
       "glucose              float64\n",
       "dtype: object"
      ]
     },
     "execution_count": 33,
     "metadata": {},
     "output_type": "execute_result"
    }
   ],
   "source": [
    "\n",
    "df['glucose'] = pd.to_numeric(df['glucose'],errors='coerce')\n",
    "#df['glucose']\n",
    "#df['glucose'] = df['glucose'].astype(int, errors='ignore')\n",
    "df['ID'] = df['ID'].astype(int, errors='ignore')\n",
    "df['time'] =  pd.to_datetime(df['time'], infer_datetime_format=True, errors='coerce')\n",
    "df = df.set_index('time')\n",
    "df = df.sort_index()\n",
    "df = df.reset_index('time')\n",
    "df.dtypes\n",
    "#df['time']"
   ]
  },
  {
   "cell_type": "markdown",
   "metadata": {},
   "source": [
    "#### Expected outcome: "
   ]
  },
  {
   "cell_type": "raw",
   "metadata": {},
   "source": [
    "ID                     int64\n",
    "time          datetime64[ns]\n",
    "recordtype             int64\n",
    "glucose              float64\n",
    "dtype: object"
   ]
  },
  {
   "cell_type": "markdown",
   "metadata": {},
   "source": [
    "<a name='2'></a>\n",
    "## Part 3: Inspect the data\n",
    "\n",
    "Now that we prepared the data we are going to inspect the data to get more familiar with the data. You can answer the questions below but feel free to explore the data further by plotting and or statistics, group by overviews and so on. \n",
    "\n",
    "To be answered at least:\n",
    "- what is the quantity of the data (observations and features)\n",
    "- what is the percentage missing data for glucose?\n",
    "- is there a specific pattern for glucose value and recordtype?\n",
    "- what is the time range?\n",
    "\n",
    "Code the solutions to your answers. Create meaningful overviews or statistics\n",
    "\n",
    "<details>    \n",
    "<summary>\n",
    "    <font size=\"3\" color=\"darkgreen\"><b>Hints</b></font>\n",
    "</summary>\n",
    "<ul><li>In the week 01 assignment some functions were explained to inspect missing values</li>\n",
    "    <li>In the week 01 assignment some functions were explained to groupby value</li>\n",
    "</ul>\n",
    "</details>\n",
    "\n",
    "<a name='ex-31'></a>\n",
    "### Code your solution"
   ]
  },
  {
   "cell_type": "code",
   "execution_count": 34,
   "metadata": {},
   "outputs": [
    {
     "name": "stdout",
     "output_type": "stream",
     "text": [
      "The percentage missing values are:\n",
      "time          0.000000\n",
      "ID            0.000000\n",
      "recordtype    0.000000\n",
      "glucose       0.617647\n",
      "dtype: float64\n",
      "The time range of the experiments is:  0 days 23:40:00\n"
     ]
    }
   ],
   "source": [
    "#CODE YOUR SOLUTION HERE\n",
    "missing = df.isnull().sum()/len(df)\n",
    "if missing.sum() == 0:\n",
    "    print('There is no missing value.')\n",
    "    print(missing)\n",
    "else:\n",
    "    print('The percentage missing values are:')\n",
    "    print(missing)\n",
    "\n",
    "time_range = df['time'].max()-df['time'].min()\n",
    "print(f'The time range of the experiments is: ', time_range)\n",
    "\n",
    "df.ID.value_counts()\n",
    "df = df.drop(df[df['ID'] < 1].index)#Assume there is an error in recording data\n",
    "# ( a negative ID patient with almost 80 Null data)"
   ]
  },
  {
   "cell_type": "markdown",
   "metadata": {},
   "source": [
    "#### Expected outcome percentage missing data\n",
    "0.6176470588235294"
   ]
  },
  {
   "cell_type": "markdown",
   "metadata": {},
   "source": [
    "<a name='3'></a>\n",
    "## Part 4: Interpolate the data\n",
    "\n",
    "A lot of data is missing. Use interpolation to fill the missing values. Create a new column with the interpolated data. Take an argumentative approach. Select an interpolation method that suits the nature of the data and explain your choice. Mind you that the expected outcome of the interpolation values can differ from the example below\n",
    "\n",
    "<details>    \n",
    "<summary>\n",
    "    <font size=\"3\" color=\"darkgreen\"><b>Hints</b></font>\n",
    "</summary>\n",
    "<ul><li>use Pandas.DataFrame.interpolate() method</li>\n",
    "</ul>\n",
    "</details>\n",
    "\n",
    "<a name='ex-41'></a>\n",
    "### Code your solution"
   ]
  },
  {
   "cell_type": "code",
   "execution_count": 35,
   "metadata": {},
   "outputs": [
    {
     "data": {
      "text/plain": [
       "Index(['glucose', 'linear_interpolated', 'poly_interpolated',\n",
       "       'spline_interpolated', 'near_interpolated'],\n",
       "      dtype='object')"
      ]
     },
     "execution_count": 35,
     "metadata": {},
     "output_type": "execute_result"
    }
   ],
   "source": [
    "#CODE YOUR SOLUTION HERE\n",
    "import numpy as np\n",
    "\n",
    "df['linear_interpolated'] = df['glucose'].interpolate(method='linear')\n",
    "df['poly_interpolated'] = df['glucose'].interpolate(method='polynomial', order= 1)\n",
    "df['spline_interpolated'] = df['glucose'].interpolate(method='spline', order= 1)\n",
    "df['near_interpolated'] = df['glucose'].interpolate(method='nearest')\n",
    "\n",
    "df.columns[3:]\n"
   ]
  },
  {
   "cell_type": "markdown",
   "metadata": {},
   "source": [
    "#### Example outcome"
   ]
  },
  {
   "cell_type": "raw",
   "metadata": {},
   "source": [
    "                 time                   ID  recordtype  glucose  interpolated\n",
    "0 2019-04-25 00:08:00                 2845           1    109.0    109.000000\n",
    "1 2019-04-25 00:14:00 -9223372036854775808           0      NaN    109.466667\n",
    "2 2019-04-25 00:29:00 -9223372036854775808           0      NaN    109.933333\n",
    "3 2019-04-25 00:44:00 -9223372036854775808           0      NaN    110.400000\n",
    "4 2019-04-25 00:50:00                 2850           1      NaN    110.866667"
   ]
  },
  {
   "cell_type": "markdown",
   "metadata": {},
   "source": [
    "<a name='4'></a>\n",
    "## Part 5: Plot the data\n",
    "\n",
    "Create a plot with the original data and the interpolated data. Consider what the best representation is for visualisation of actual values and modelled/imputed values. Provide argumentation for the plot of choice. \n",
    "\n",
    "Mind you, there are several types of plots. The most used are: \n",
    "- Compare values->\tBar, boxplot, violin plot, scatter, line. \n",
    "- Show composition-> Stacked bar, pie, mosaic, area, burtin.\n",
    "- Show distribution-> \tHistogram, density, qqplot, bubble. \n",
    "- Analyzing trend-> Line, bar, dual axis \n",
    "- Relations-> Scatter, heatmap\n",
    "\n",
    "\n",
    "### Code your solution"
   ]
  },
  {
   "cell_type": "code",
   "execution_count": 36,
   "metadata": {},
   "outputs": [],
   "source": [
    "from bokeh.io import output_notebook\n",
    "from bokeh.plotting import figure, show\n",
    "from bokeh.layouts import gridplot\n",
    "from bokeh.io import output_notebook, output_file\n",
    "from bokeh.plotting import ColumnDataSource\n",
    "from bokeh.models import Range1d\n",
    "from bokeh.plotting import figure\n"
   ]
  },
  {
   "cell_type": "code",
   "execution_count": 37,
   "metadata": {},
   "outputs": [
    {
     "data": {
      "text/html": [
       "\n",
       "  <div class=\"bk-root\" id=\"9009a18d-b3a5-4a36-a967-b6d0b720a65c\" data-root-id=\"13614\"></div>\n"
      ]
     },
     "metadata": {},
     "output_type": "display_data"
    },
    {
     "data": {
      "application/javascript": "(function(root) {\n  function embed_document(root) {\n  const docs_json = {\"b066e38a-eaed-4c65-ba3f-dcaf737ff578\":{\"defs\":[{\"extends\":null,\"module\":null,\"name\":\"ReactiveHTML1\",\"overrides\":[],\"properties\":[]},{\"extends\":null,\"module\":null,\"name\":\"FlexBox1\",\"overrides\":[],\"properties\":[{\"default\":\"flex-start\",\"kind\":null,\"name\":\"align_content\"},{\"default\":\"flex-start\",\"kind\":null,\"name\":\"align_items\"},{\"default\":\"row\",\"kind\":null,\"name\":\"flex_direction\"},{\"default\":\"wrap\",\"kind\":null,\"name\":\"flex_wrap\"},{\"default\":\"flex-start\",\"kind\":null,\"name\":\"justify_content\"}]},{\"extends\":null,\"module\":null,\"name\":\"GridStack1\",\"overrides\":[],\"properties\":[{\"default\":\"warn\",\"kind\":null,\"name\":\"mode\"},{\"default\":null,\"kind\":null,\"name\":\"ncols\"},{\"default\":null,\"kind\":null,\"name\":\"nrows\"},{\"default\":true,\"kind\":null,\"name\":\"allow_resize\"},{\"default\":true,\"kind\":null,\"name\":\"allow_drag\"},{\"default\":[],\"kind\":null,\"name\":\"state\"}]},{\"extends\":null,\"module\":null,\"name\":\"click1\",\"overrides\":[],\"properties\":[{\"default\":\"\",\"kind\":null,\"name\":\"terminal_output\"},{\"default\":\"\",\"kind\":null,\"name\":\"debug_name\"},{\"default\":0,\"kind\":null,\"name\":\"clears\"}]},{\"extends\":null,\"module\":null,\"name\":\"NotificationAreaBase1\",\"overrides\":[],\"properties\":[{\"default\":\"bottom-right\",\"kind\":null,\"name\":\"position\"},{\"default\":0,\"kind\":null,\"name\":\"_clear\"}]},{\"extends\":null,\"module\":null,\"name\":\"NotificationArea1\",\"overrides\":[],\"properties\":[{\"default\":[],\"kind\":null,\"name\":\"notifications\"},{\"default\":\"bottom-right\",\"kind\":null,\"name\":\"position\"},{\"default\":0,\"kind\":null,\"name\":\"_clear\"},{\"default\":[{\"background\":\"#ffc107\",\"icon\":{\"className\":\"fas fa-exclamation-triangle\",\"color\":\"white\",\"tagName\":\"i\"},\"type\":\"warning\"},{\"background\":\"#007bff\",\"icon\":{\"className\":\"fas fa-info-circle\",\"color\":\"white\",\"tagName\":\"i\"},\"type\":\"info\"}],\"kind\":null,\"name\":\"types\"}]},{\"extends\":null,\"module\":null,\"name\":\"Notification\",\"overrides\":[],\"properties\":[{\"default\":null,\"kind\":null,\"name\":\"background\"},{\"default\":3000,\"kind\":null,\"name\":\"duration\"},{\"default\":null,\"kind\":null,\"name\":\"icon\"},{\"default\":\"\",\"kind\":null,\"name\":\"message\"},{\"default\":null,\"kind\":null,\"name\":\"notification_type\"},{\"default\":false,\"kind\":null,\"name\":\"_destroyed\"}]},{\"extends\":null,\"module\":null,\"name\":\"TemplateActions1\",\"overrides\":[],\"properties\":[{\"default\":0,\"kind\":null,\"name\":\"open_modal\"},{\"default\":0,\"kind\":null,\"name\":\"close_modal\"}]},{\"extends\":null,\"module\":null,\"name\":\"MaterialTemplateActions1\",\"overrides\":[],\"properties\":[{\"default\":0,\"kind\":null,\"name\":\"open_modal\"},{\"default\":0,\"kind\":null,\"name\":\"close_modal\"}]}],\"roots\":{\"references\":[{\"attributes\":{\"below\":[{\"id\":\"13625\"}],\"center\":[{\"id\":\"13628\"},{\"id\":\"13632\"}],\"left\":[{\"id\":\"13629\"}],\"renderers\":[{\"id\":\"13651\"},{\"id\":\"13657\"},{\"id\":\"13663\"},{\"id\":\"13669\"},{\"id\":\"13675\"}],\"title\":{\"id\":\"13615\"},\"toolbar\":{\"id\":\"13640\"},\"x_range\":{\"id\":\"13617\"},\"x_scale\":{\"id\":\"13621\"},\"y_range\":{\"id\":\"13619\"},\"y_scale\":{\"id\":\"13623\"}},\"id\":\"13614\",\"subtype\":\"Figure\",\"type\":\"Plot\"},{\"attributes\":{\"coordinates\":null,\"data_source\":{\"id\":\"13647\"},\"glyph\":{\"id\":\"13648\"},\"group\":null,\"hover_glyph\":null,\"muted_glyph\":{\"id\":\"13650\"},\"nonselection_glyph\":{\"id\":\"13649\"},\"view\":{\"id\":\"13652\"}},\"id\":\"13651\",\"type\":\"GlyphRenderer\"},{\"attributes\":{\"coordinates\":null,\"data_source\":{\"id\":\"13671\"},\"glyph\":{\"id\":\"13672\"},\"group\":null,\"hover_glyph\":null,\"muted_glyph\":{\"id\":\"13674\"},\"nonselection_glyph\":{\"id\":\"13673\"},\"view\":{\"id\":\"13676\"}},\"id\":\"13675\",\"type\":\"GlyphRenderer\"},{\"attributes\":{\"line_alpha\":0.1,\"line_color\":\"green\",\"x\":{\"field\":\"x\"},\"y\":{\"field\":\"y\"}},\"id\":\"13661\",\"type\":\"Line\"},{\"attributes\":{\"data\":{\"x\":{\"__ndarray__\":\"AABwIB2ldkIAAKyHH6V2QgAA5NA0pXZCAACkpTaldkIAANI4OaV2QgAA3n1CpXZCAAAcGkqldkIAAPa0TaV2QgAAHk9PpXZCAACa4U+ldkIAADIcUKV2QgAA2CpQpXZCAAD6y1CldkIAAIQyUaV2QgAAHG1RpXZCAADWSFKldkIAAHxXUqV2QgAAYK9SpXZCAABS21KldkIAAOoVU6V2QgAAglBTpXZCAADUZlSldkIAAJwWVaV2QgAAcppVpXZCAAAeolaldkIAAE4XV6V2QgAAyqlXpXZCAAC81VeldkIAAPoeWKV2QgAARjxYpXZCAACSWVildkIAAISFWKV2QgAAHMBYpXZCAAAO7FildkIAALT6WKV2QgAAmFJZpXZCAADkb1mldkIAAG7WWaV2QgAABhFapXZCAACeS1qldkIAADaGWqV2QgAAKLJapXZCAABm+1qldkIAAP41W6V2QgAA7n9dpXZCAABOal6ldkIAADLCXqV2QgAARo9fpXZCAAAQdGWldkIAAIQrZ6V2QgAAfFBopXZCAAAuUWqldkIAAEIea6V2QgAAMmhtpXZC\",\"dtype\":\"float64\",\"order\":\"little\",\"shape\":[54]},\"y\":{\"__ndarray__\":\"AAAAAABAW0AAAAAAAEBbQAAAAAAAwF5AAAAAAADAY0AAAAAAAMBjQAAAAAAAYGFAAAAAAADgYkAAAAAAACBgQAAAAAAAIGRAAAAAAAAAZ0AAAAAAAEBmQAAAAAAAQGZAAAAAAABAXkAAAAAAAMBbQAAAAAAAgFpAAAAAAADAVkAAAAAAAEBYQAAAAAAAgFpAAAAAAACAWkAAAAAAAEBYQAAAAAAAgFVAAAAAAACAXEAAAAAAACBgQAAAAAAAgF1AAAAAAACAXUAAAAAAAMBcQAAAAAAAQFpAAAAAAABAW0AAAAAAAMBaQAAAAAAAwFtAAAAAAAAAXkAAAAAAACBhQAAAAAAAwGBAAAAAAAAgYEAAAAAAAEBfQAAAAAAAgF5AAAAAAAAAX0AAAAAAAMBfQAAAAAAAQF5AAAAAAADAXkAAAAAAAIBeQAAAAAAAAF9AAAAAAACAX0AAAAAAAABgQAAAAAAAgFtAAAAAAAAAYEAAAAAAAABdQAAAAAAAgFpAAAAAAADgYkAAAAAAAIBfQAAAAAAAQGBAAAAAAACAXEAAAAAAAIBaQAAAAAAAwFtA\",\"dtype\":\"float64\",\"order\":\"little\",\"shape\":[54]}},\"selected\":{\"id\":\"13763\"},\"selection_policy\":{\"id\":\"13762\"}},\"id\":\"13665\",\"type\":\"ColumnDataSource\"},{\"attributes\":{},\"id\":\"13761\",\"type\":\"Selection\"},{\"attributes\":{\"fill_alpha\":{\"value\":0.1},\"fill_color\":{\"value\":\"red\"},\"hatch_alpha\":{\"value\":0.1},\"hatch_color\":{\"value\":\"red\"},\"line_alpha\":{\"value\":0.1},\"line_color\":{\"value\":\"red\"},\"x\":{\"field\":\"x\"},\"y\":{\"field\":\"y\"}},\"id\":\"13649\",\"type\":\"Scatter\"},{\"attributes\":{\"coordinates\":null,\"data_source\":{\"id\":\"13659\"},\"glyph\":{\"id\":\"13660\"},\"group\":null,\"hover_glyph\":null,\"muted_glyph\":{\"id\":\"13662\"},\"nonselection_glyph\":{\"id\":\"13661\"},\"view\":{\"id\":\"13664\"}},\"id\":\"13663\",\"type\":\"GlyphRenderer\"},{\"attributes\":{},\"id\":\"13630\",\"type\":\"BasicTicker\"},{\"attributes\":{},\"id\":\"13633\",\"type\":\"PanTool\"},{\"attributes\":{\"line_alpha\":0.2,\"line_color\":\"orange\",\"x\":{\"field\":\"x\"},\"y\":{\"field\":\"y\"}},\"id\":\"13656\",\"type\":\"Line\"},{\"attributes\":{\"source\":{\"id\":\"13659\"}},\"id\":\"13664\",\"type\":\"CDSView\"},{\"attributes\":{\"axis\":{\"id\":\"13629\"},\"coordinates\":null,\"dimension\":1,\"grid_line_color\":\"lightgray\",\"group\":null,\"ticker\":null},\"id\":\"13632\",\"type\":\"Grid\"},{\"attributes\":{\"source\":{\"id\":\"13647\"}},\"id\":\"13652\",\"type\":\"CDSView\"},{\"attributes\":{},\"id\":\"13617\",\"type\":\"DataRange1d\"},{\"attributes\":{\"data\":{\"x\":{\"__ndarray__\":\"AABwIB2ldkIAAKyHH6V2QgAA5NA0pXZCAACkpTaldkIAANI4OaV2QgAA3n1CpXZCAAAcGkqldkIAAPa0TaV2QgAAHk9PpXZCAACa4U+ldkIAADIcUKV2QgAA2CpQpXZCAAD6y1CldkIAAIQyUaV2QgAAHG1RpXZCAADWSFKldkIAAHxXUqV2QgAAYK9SpXZCAABS21KldkIAAOoVU6V2QgAAglBTpXZCAADUZlSldkIAAJwWVaV2QgAAcppVpXZCAAAeolaldkIAAE4XV6V2QgAAyqlXpXZCAAC81VeldkIAAPoeWKV2QgAARjxYpXZCAACSWVildkIAAISFWKV2QgAAHMBYpXZCAAAO7FildkIAALT6WKV2QgAAmFJZpXZCAADkb1mldkIAAG7WWaV2QgAABhFapXZCAACeS1qldkIAADaGWqV2QgAAKLJapXZCAABm+1qldkIAAP41W6V2QgAA7n9dpXZCAABOal6ldkIAADLCXqV2QgAARo9fpXZCAAAQdGWldkIAAIQrZ6V2QgAAfFBopXZCAAAuUWqldkIAAEIea6V2QgAAMmhtpXZC\",\"dtype\":\"float64\",\"order\":\"little\",\"shape\":[54]},\"y\":{\"__ndarray__\":\"AAAAAABAW0AAAAAAAAD4fwAAAAAAwF5AAAAAAADAY0AAAAAAAAD4fwAAAAAAYGFAAAAAAADgYkAAAAAAACBgQAAAAAAAIGRAAAAAAAAAZ0AAAAAAAEBmQAAAAAAAQGZAAAAAAABAXkAAAAAAAMBbQAAAAAAAgFpAAAAAAADAVkAAAAAAAEBYQAAAAAAAgFpAAAAAAACAWkAAAAAAAEBYQAAAAAAAgFVAAAAAAACAXEAAAAAAACBgQAAAAAAAgF1AAAAAAACAXUAAAAAAAMBcQAAAAAAAQFpAAAAAAABAW0AAAAAAAMBaQAAAAAAAwFtAAAAAAAAAXkAAAAAAACBhQAAAAAAAwGBAAAAAAAAgYEAAAAAAAEBfQAAAAAAAgF5AAAAAAAAAX0AAAAAAAMBfQAAAAAAAQF5AAAAAAADAXkAAAAAAAIBeQAAAAAAAAF9AAAAAAACAX0AAAAAAAABgQAAAAAAAgFtAAAAAAAAAYEAAAAAAAABdQAAAAAAAgFpAAAAAAADgYkAAAAAAAIBfQAAAAAAAQGBAAAAAAACAXEAAAAAAAIBaQAAAAAAAwFtA\",\"dtype\":\"float64\",\"order\":\"little\",\"shape\":[54]}},\"selected\":{\"id\":\"13757\"},\"selection_policy\":{\"id\":\"13756\"}},\"id\":\"13647\",\"type\":\"ColumnDataSource\"},{\"attributes\":{\"coordinates\":null,\"data_source\":{\"id\":\"13653\"},\"glyph\":{\"id\":\"13654\"},\"group\":null,\"hover_glyph\":null,\"muted_glyph\":{\"id\":\"13656\"},\"nonselection_glyph\":{\"id\":\"13655\"},\"view\":{\"id\":\"13658\"}},\"id\":\"13657\",\"type\":\"GlyphRenderer\"},{\"attributes\":{\"line_alpha\":0.1,\"line_color\":\"blue\",\"x\":{\"field\":\"x\"},\"y\":{\"field\":\"y\"}},\"id\":\"13673\",\"type\":\"Line\"},{\"attributes\":{},\"id\":\"13765\",\"type\":\"Selection\"},{\"attributes\":{\"bottom_units\":\"screen\",\"coordinates\":null,\"fill_alpha\":0.5,\"fill_color\":\"lightgrey\",\"group\":null,\"left_units\":\"screen\",\"level\":\"overlay\",\"line_alpha\":1.0,\"line_color\":\"black\",\"line_dash\":[4,4],\"line_width\":2,\"right_units\":\"screen\",\"syncable\":false,\"top_units\":\"screen\"},\"id\":\"13639\",\"type\":\"BoxAnnotation\"},{\"attributes\":{\"line_color\":\"green\",\"x\":{\"field\":\"x\"},\"y\":{\"field\":\"y\"}},\"id\":\"13660\",\"type\":\"Line\"},{\"attributes\":{\"line_alpha\":0.2,\"line_color\":\"green\",\"x\":{\"field\":\"x\"},\"y\":{\"field\":\"y\"}},\"id\":\"13662\",\"type\":\"Line\"},{\"attributes\":{\"line_alpha\":0.1,\"line_color\":\"red\",\"x\":{\"field\":\"x\"},\"y\":{\"field\":\"y\"}},\"id\":\"13667\",\"type\":\"Line\"},{\"attributes\":{},\"id\":\"13626\",\"type\":\"BasicTicker\"},{\"attributes\":{},\"id\":\"13762\",\"type\":\"UnionRenderers\"},{\"attributes\":{},\"id\":\"13621\",\"type\":\"LinearScale\"},{\"attributes\":{\"overlay\":{\"id\":\"13639\"}},\"id\":\"13635\",\"type\":\"BoxZoomTool\"},{\"attributes\":{\"fill_color\":{\"value\":\"red\"},\"hatch_color\":{\"value\":\"red\"},\"line_color\":{\"value\":\"red\"},\"x\":{\"field\":\"x\"},\"y\":{\"field\":\"y\"}},\"id\":\"13648\",\"type\":\"Scatter\"},{\"attributes\":{\"source\":{\"id\":\"13653\"}},\"id\":\"13658\",\"type\":\"CDSView\"},{\"attributes\":{\"line_color\":\"orange\",\"x\":{\"field\":\"x\"},\"y\":{\"field\":\"y\"}},\"id\":\"13654\",\"type\":\"Line\"},{\"attributes\":{},\"id\":\"13636\",\"type\":\"SaveTool\"},{\"attributes\":{},\"id\":\"13623\",\"type\":\"LinearScale\"},{\"attributes\":{\"line_alpha\":0.1,\"line_color\":\"orange\",\"x\":{\"field\":\"x\"},\"y\":{\"field\":\"y\"}},\"id\":\"13655\",\"type\":\"Line\"},{\"attributes\":{},\"id\":\"13759\",\"type\":\"Selection\"},{\"attributes\":{},\"id\":\"13619\",\"type\":\"DataRange1d\"},{\"attributes\":{\"data\":{\"x\":{\"__ndarray__\":\"AABwIB2ldkIAAKyHH6V2QgAA5NA0pXZCAACkpTaldkIAANI4OaV2QgAA3n1CpXZCAAAcGkqldkIAAPa0TaV2QgAAHk9PpXZCAACa4U+ldkIAADIcUKV2QgAA2CpQpXZCAAD6y1CldkIAAIQyUaV2QgAAHG1RpXZCAADWSFKldkIAAHxXUqV2QgAAYK9SpXZCAABS21KldkIAAOoVU6V2QgAAglBTpXZCAADUZlSldkIAAJwWVaV2QgAAcppVpXZCAAAeolaldkIAAE4XV6V2QgAAyqlXpXZCAAC81VeldkIAAPoeWKV2QgAARjxYpXZCAACSWVildkIAAISFWKV2QgAAHMBYpXZCAAAO7FildkIAALT6WKV2QgAAmFJZpXZCAADkb1mldkIAAG7WWaV2QgAABhFapXZCAACeS1qldkIAADaGWqV2QgAAKLJapXZCAABm+1qldkIAAP41W6V2QgAA7n9dpXZCAABOal6ldkIAADLCXqV2QgAARo9fpXZCAAAQdGWldkIAAIQrZ6V2QgAAfFBopXZCAAAuUWqldkIAAEIea6V2QgAAMmhtpXZC\",\"dtype\":\"float64\",\"order\":\"little\",\"shape\":[54]},\"y\":{\"__ndarray__\":\"AAAAAABAW0AAAAAAAABdQAAAAAAAwF5AAAAAAADAY0AAAAAAAJBiQAAAAAAAYGFAAAAAAADgYkAAAAAAACBgQAAAAAAAIGRAAAAAAAAAZ0AAAAAAAEBmQAAAAAAAQGZAAAAAAABAXkAAAAAAAMBbQAAAAAAAgFpAAAAAAADAVkAAAAAAAEBYQAAAAAAAgFpAAAAAAACAWkAAAAAAAEBYQAAAAAAAgFVAAAAAAACAXEAAAAAAACBgQAAAAAAAgF1AAAAAAACAXUAAAAAAAMBcQAAAAAAAQFpAAAAAAABAW0AAAAAAAMBaQAAAAAAAwFtAAAAAAAAAXkAAAAAAACBhQAAAAAAAwGBAAAAAAAAgYEAAAAAAAEBfQAAAAAAAgF5AAAAAAAAAX0AAAAAAAMBfQAAAAAAAQF5AAAAAAADAXkAAAAAAAIBeQAAAAAAAAF9AAAAAAACAX0AAAAAAAABgQAAAAAAAgFtAAAAAAAAAYEAAAAAAAABdQAAAAAAAgFpAAAAAAADgYkAAAAAAAIBfQAAAAAAAQGBAAAAAAACAXEAAAAAAAIBaQAAAAAAAwFtA\",\"dtype\":\"float64\",\"order\":\"little\",\"shape\":[54]}},\"selected\":{\"id\":\"13759\"},\"selection_policy\":{\"id\":\"13758\"}},\"id\":\"13653\",\"type\":\"ColumnDataSource\"},{\"attributes\":{},\"id\":\"13752\",\"type\":\"AllLabels\"},{\"attributes\":{\"coordinates\":null,\"data_source\":{\"id\":\"13665\"},\"glyph\":{\"id\":\"13666\"},\"group\":null,\"hover_glyph\":null,\"muted_glyph\":{\"id\":\"13668\"},\"nonselection_glyph\":{\"id\":\"13667\"},\"view\":{\"id\":\"13670\"}},\"id\":\"13669\",\"type\":\"GlyphRenderer\"},{\"attributes\":{},\"id\":\"13757\",\"type\":\"Selection\"},{\"attributes\":{},\"id\":\"13637\",\"type\":\"ResetTool\"},{\"attributes\":{},\"id\":\"13638\",\"type\":\"HelpTool\"},{\"attributes\":{},\"id\":\"13764\",\"type\":\"UnionRenderers\"},{\"attributes\":{\"axis\":{\"id\":\"13625\"},\"coordinates\":null,\"grid_line_color\":\"lightgray\",\"group\":null,\"ticker\":null},\"id\":\"13628\",\"type\":\"Grid\"},{\"attributes\":{},\"id\":\"13763\",\"type\":\"Selection\"},{\"attributes\":{\"fill_alpha\":{\"value\":0.2},\"fill_color\":{\"value\":\"red\"},\"hatch_alpha\":{\"value\":0.2},\"hatch_color\":{\"value\":\"red\"},\"line_alpha\":{\"value\":0.2},\"line_color\":{\"value\":\"red\"},\"x\":{\"field\":\"x\"},\"y\":{\"field\":\"y\"}},\"id\":\"13650\",\"type\":\"Scatter\"},{\"attributes\":{\"source\":{\"id\":\"13665\"}},\"id\":\"13670\",\"type\":\"CDSView\"},{\"attributes\":{\"line_alpha\":0.2,\"line_color\":\"red\",\"x\":{\"field\":\"x\"},\"y\":{\"field\":\"y\"}},\"id\":\"13668\",\"type\":\"Line\"},{\"attributes\":{},\"id\":\"13755\",\"type\":\"AllLabels\"},{\"attributes\":{\"axis_label\":\"time\",\"coordinates\":null,\"formatter\":{\"id\":\"13754\"},\"group\":null,\"major_label_policy\":{\"id\":\"13755\"},\"ticker\":{\"id\":\"13626\"}},\"id\":\"13625\",\"type\":\"LinearAxis\"},{\"attributes\":{\"data\":{\"x\":{\"__ndarray__\":\"AABwIB2ldkIAAKyHH6V2QgAA5NA0pXZCAACkpTaldkIAANI4OaV2QgAA3n1CpXZCAAAcGkqldkIAAPa0TaV2QgAAHk9PpXZCAACa4U+ldkIAADIcUKV2QgAA2CpQpXZCAAD6y1CldkIAAIQyUaV2QgAAHG1RpXZCAADWSFKldkIAAHxXUqV2QgAAYK9SpXZCAABS21KldkIAAOoVU6V2QgAAglBTpXZCAADUZlSldkIAAJwWVaV2QgAAcppVpXZCAAAeolaldkIAAE4XV6V2QgAAyqlXpXZCAAC81VeldkIAAPoeWKV2QgAARjxYpXZCAACSWVildkIAAISFWKV2QgAAHMBYpXZCAAAO7FildkIAALT6WKV2QgAAmFJZpXZCAADkb1mldkIAAG7WWaV2QgAABhFapXZCAACeS1qldkIAADaGWqV2QgAAKLJapXZCAABm+1qldkIAAP41W6V2QgAA7n9dpXZCAABOal6ldkIAADLCXqV2QgAARo9fpXZCAAAQdGWldkIAAIQrZ6V2QgAAfFBopXZCAAAuUWqldkIAAEIea6V2QgAAMmhtpXZC\",\"dtype\":\"float64\",\"order\":\"little\",\"shape\":[54]},\"y\":{\"__ndarray__\":\"AAAAAABAW0BwJ69cvLhbQAAAAAAAwF5AAAAAAADAY0BGyqUiECNjQAAAAAAAYGFAAAAAAADgYkAAAAAAACBgQAAAAAAAIGRAAAAAAAAAZ0AAAAAAAEBmQAAAAAAAQGZAAAAAAABAXkAAAAAAAMBbQAAAAAAAgFpAAAAAAADAVkAAAAAAAEBYQAAAAAAAgFpAAAAAAACAWkAAAAAAAEBYQAAAAAAAgFVAAAAAAACAXEAAAAAAACBgQAAAAAAAgF1AAAAAAACAXUAAAAAAAMBcQAAAAAAAQFpAAAAAAABAW0AAAAAAAMBaQAAAAAAAwFtAAAAAAAAAXkAAAAAAACBhQAAAAAAAwGBAAAAAAAAgYEAAAAAAAEBfQAAAAAAAgF5AAAAAAAAAX0AAAAAAAMBfQAAAAAAAQF5AAAAAAADAXkAAAAAAAIBeQAAAAAAAAF9AAAAAAACAX0AAAAAAAABgQAAAAAAAgFtAAAAAAAAAYEAAAAAAAABdQAAAAAAAgFpAAAAAAADgYkAAAAAAAIBfQAAAAAAAQGBAAAAAAACAXEAAAAAAAIBaQAAAAAAAwFtA\",\"dtype\":\"float64\",\"order\":\"little\",\"shape\":[54]}},\"selected\":{\"id\":\"13761\"},\"selection_policy\":{\"id\":\"13760\"}},\"id\":\"13659\",\"type\":\"ColumnDataSource\"},{\"attributes\":{},\"id\":\"13756\",\"type\":\"UnionRenderers\"},{\"attributes\":{},\"id\":\"13758\",\"type\":\"UnionRenderers\"},{\"attributes\":{\"axis_label\":\"Glucose level\",\"coordinates\":null,\"formatter\":{\"id\":\"13751\"},\"group\":null,\"major_label_policy\":{\"id\":\"13752\"},\"ticker\":{\"id\":\"13630\"}},\"id\":\"13629\",\"type\":\"LinearAxis\"},{\"attributes\":{\"source\":{\"id\":\"13671\"}},\"id\":\"13676\",\"type\":\"CDSView\"},{\"attributes\":{},\"id\":\"13634\",\"type\":\"WheelZoomTool\"},{\"attributes\":{\"line_alpha\":0.2,\"line_color\":\"blue\",\"x\":{\"field\":\"x\"},\"y\":{\"field\":\"y\"}},\"id\":\"13674\",\"type\":\"Line\"},{\"attributes\":{},\"id\":\"13751\",\"type\":\"BasicTickFormatter\"},{\"attributes\":{\"coordinates\":null,\"group\":null,\"text\":\"Interpolated glucose values\"},\"id\":\"13615\",\"type\":\"Title\"},{\"attributes\":{\"line_color\":\"red\",\"x\":{\"field\":\"x\"},\"y\":{\"field\":\"y\"}},\"id\":\"13666\",\"type\":\"Line\"},{\"attributes\":{\"line_color\":\"blue\",\"x\":{\"field\":\"x\"},\"y\":{\"field\":\"y\"}},\"id\":\"13672\",\"type\":\"Line\"},{\"attributes\":{},\"id\":\"13754\",\"type\":\"BasicTickFormatter\"},{\"attributes\":{},\"id\":\"13760\",\"type\":\"UnionRenderers\"},{\"attributes\":{\"tools\":[{\"id\":\"13633\"},{\"id\":\"13634\"},{\"id\":\"13635\"},{\"id\":\"13636\"},{\"id\":\"13637\"},{\"id\":\"13638\"}]},\"id\":\"13640\",\"type\":\"Toolbar\"},{\"attributes\":{\"data\":{\"x\":{\"__ndarray__\":\"AABwIB2ldkIAAKyHH6V2QgAA5NA0pXZCAACkpTaldkIAANI4OaV2QgAA3n1CpXZCAAAcGkqldkIAAPa0TaV2QgAAHk9PpXZCAACa4U+ldkIAADIcUKV2QgAA2CpQpXZCAAD6y1CldkIAAIQyUaV2QgAAHG1RpXZCAADWSFKldkIAAHxXUqV2QgAAYK9SpXZCAABS21KldkIAAOoVU6V2QgAAglBTpXZCAADUZlSldkIAAJwWVaV2QgAAcppVpXZCAAAeolaldkIAAE4XV6V2QgAAyqlXpXZCAAC81VeldkIAAPoeWKV2QgAARjxYpXZCAACSWVildkIAAISFWKV2QgAAHMBYpXZCAAAO7FildkIAALT6WKV2QgAAmFJZpXZCAADkb1mldkIAAG7WWaV2QgAABhFapXZCAACeS1qldkIAADaGWqV2QgAAKLJapXZCAABm+1qldkIAAP41W6V2QgAA7n9dpXZCAABOal6ldkIAADLCXqV2QgAARo9fpXZCAAAQdGWldkIAAIQrZ6V2QgAAfFBopXZCAAAuUWqldkIAAEIea6V2QgAAMmhtpXZC\",\"dtype\":\"float64\",\"order\":\"little\",\"shape\":[54]},\"y\":{\"__ndarray__\":\"AAAAAABAW0B4d3d3d7dbQAAAAAAAwF5AAAAAAADAY0AAAAAAAChjQAAAAAAAYGFAAAAAAADgYkAAAAAAACBgQAAAAAAAIGRAAAAAAAAAZ0AAAAAAAEBmQAAAAAAAQGZAAAAAAABAXkAAAAAAAMBbQAAAAAAAgFpAAAAAAADAVkAAAAAAAEBYQAAAAAAAgFpAAAAAAACAWkAAAAAAAEBYQAAAAAAAgFVAAAAAAACAXEAAAAAAACBgQAAAAAAAgF1AAAAAAACAXUAAAAAAAMBcQAAAAAAAQFpAAAAAAABAW0AAAAAAAMBaQAAAAAAAwFtAAAAAAAAAXkAAAAAAACBhQAAAAAAAwGBAAAAAAAAgYEAAAAAAAEBfQAAAAAAAgF5AAAAAAAAAX0AAAAAAAMBfQAAAAAAAQF5AAAAAAADAXkAAAAAAAIBeQAAAAAAAAF9AAAAAAACAX0AAAAAAAABgQAAAAAAAgFtAAAAAAAAAYEAAAAAAAABdQAAAAAAAgFpAAAAAAADgYkAAAAAAAIBfQAAAAAAAQGBAAAAAAACAXEAAAAAAAIBaQAAAAAAAwFtA\",\"dtype\":\"float64\",\"order\":\"little\",\"shape\":[54]}},\"selected\":{\"id\":\"13765\"},\"selection_policy\":{\"id\":\"13764\"}},\"id\":\"13671\",\"type\":\"ColumnDataSource\"}],\"root_ids\":[\"13614\"]},\"title\":\"Bokeh Application\",\"version\":\"2.4.3\"}};\n  const render_items = [{\"docid\":\"b066e38a-eaed-4c65-ba3f-dcaf737ff578\",\"root_ids\":[\"13614\"],\"roots\":{\"13614\":\"9009a18d-b3a5-4a36-a967-b6d0b720a65c\"}}];\n  root.Bokeh.embed.embed_items_notebook(docs_json, render_items);\n  }\n  if (root.Bokeh !== undefined) {\n    embed_document(root);\n  } else {\n    let attempts = 0;\n    const timer = setInterval(function(root) {\n      if (root.Bokeh !== undefined) {\n        clearInterval(timer);\n        embed_document(root);\n      } else {\n        attempts++;\n        if (attempts > 100) {\n          clearInterval(timer);\n          console.log(\"Bokeh: ERROR: Unable to run BokehJS code because BokehJS library is missing\");\n        }\n      }\n    }, 10, root)\n  }\n})(window);",
      "application/vnd.bokehjs_exec.v0+json": ""
     },
     "metadata": {
      "application/vnd.bokehjs_exec.v0+json": {
       "id": "13614"
      }
     },
     "output_type": "display_data"
    }
   ],
   "source": [
    "\n",
    "\n",
    "interpolated = figure(title = 'Interpolated glucose values')\n",
    "interpolated.scatter(x = df.time, y = df.glucose, color = 'red')\n",
    "interpolated.line(x = df.time, y = df.linear_interpolated, color = 'orange')\n",
    "interpolated.line(x = df.time, y = df.spline_interpolated, color = 'green' )\n",
    "interpolated.line(x = df.time, y = df.near_interpolated, color = 'red' )\n",
    "interpolated.line(x = df.time, y = df.poly_interpolated, color = 'blue')\n",
    "\n",
    "interpolated.xaxis.axis_label = 'time'\n",
    "interpolated.yaxis.axis_label = 'Glucose level'\n",
    "interpolated.grid.grid_line_color=\"lightgray\"\n",
    "#interpolated.legend([\"scdsf\", 'wrdef'])\n",
    "show(interpolated)\n",
    "\n",
    "\n",
    "\n"
   ]
  },
  {
   "cell_type": "markdown",
   "metadata": {},
   "source": [
    "<a name='6'></a>\n",
    "## Part 6: Challenge\n",
    "\n",
    "It might even be interesting to introduce a widget in which you can select different methods to interpolate.\n",
    "1. Can you improve the interpolation by choosing an other method?\n",
    "2. Can you add an rolling mean line? \n",
    "2. Can you improve the plot by making it interactive?\n",
    "\n",
    "<a name='ex-61'></a>\n",
    "### Code your solution"
   ]
  },
  {
   "cell_type": "code",
   "execution_count": 42,
   "metadata": {},
   "outputs": [
    {
     "data": {
      "application/javascript": "(function(root) {\n  function now() {\n    return new Date();\n  }\n\n  var force = true;\n\n  if (typeof root._bokeh_onload_callbacks === \"undefined\" || force === true) {\n    root._bokeh_onload_callbacks = [];\n    root._bokeh_is_loading = undefined;\n  }\n\n  if (typeof (root._bokeh_timeout) === \"undefined\" || force === true) {\n    root._bokeh_timeout = Date.now() + 5000;\n    root._bokeh_failed_load = false;\n  }\n\n  function run_callbacks() {\n    try {\n      root._bokeh_onload_callbacks.forEach(function(callback) {\n        if (callback != null)\n          callback();\n      });\n    } finally {\n      delete root._bokeh_onload_callbacks\n    }\n    console.debug(\"Bokeh: all callbacks have finished\");\n  }\n\n  function load_libs(css_urls, js_urls, js_modules, callback) {\n    if (css_urls == null) css_urls = [];\n    if (js_urls == null) js_urls = [];\n    if (js_modules == null) js_modules = [];\n\n    root._bokeh_onload_callbacks.push(callback);\n    if (root._bokeh_is_loading > 0) {\n      console.debug(\"Bokeh: BokehJS is being loaded, scheduling callback at\", now());\n      return null;\n    }\n    if (js_urls.length === 0 && js_modules.length === 0) {\n      run_callbacks();\n      return null;\n    }\n    console.debug(\"Bokeh: BokehJS not loaded, scheduling load and callback at\", now());\n\n    function on_load() {\n      root._bokeh_is_loading--;\n      if (root._bokeh_is_loading === 0) {\n        console.debug(\"Bokeh: all BokehJS libraries/stylesheets loaded\");\n        run_callbacks()\n      }\n    }\n\n    function on_error() {\n      console.error(\"failed to load \" + url);\n    }\n\n    for (var i = 0; i < css_urls.length; i++) {\n      var url = css_urls[i];\n      const element = document.createElement(\"link\");\n      element.onload = on_load;\n      element.onerror = on_error;\n      element.rel = \"stylesheet\";\n      element.type = \"text/css\";\n      element.href = url;\n      console.debug(\"Bokeh: injecting link tag for BokehJS stylesheet: \", url);\n      document.body.appendChild(element);\n    }\n\n    var skip = [];\n    if (window.requirejs) {\n      window.requirejs.config({'packages': {}, 'paths': {'gridstack': 'https://cdn.jsdelivr.net/npm/gridstack@4.2.5/dist/gridstack-h5', 'notyf': 'https://cdn.jsdelivr.net/npm/notyf@3/notyf.min'}, 'shim': {'gridstack': {'exports': 'GridStack'}}});\n      require([\"gridstack\"], function(GridStack) {\n\twindow.GridStack = GridStack\n\ton_load()\n      })\n      require([\"notyf\"], function() {\n\ton_load()\n      })\n      root._bokeh_is_loading = css_urls.length + 2;\n    } else {\n      root._bokeh_is_loading = css_urls.length + js_urls.length + js_modules.length;\n    }    if (((window['GridStack'] !== undefined) && (!(window['GridStack'] instanceof HTMLElement))) || window.requirejs) {\n      var urls = ['https://cdn.holoviz.org/panel/0.14.1/dist/bundled/gridstack/gridstack@4.2.5/dist/gridstack-h5.js'];\n      for (var i = 0; i < urls.length; i++) {\n        skip.push(urls[i])\n      }\n    }    if (((window['Notyf'] !== undefined) && (!(window['Notyf'] instanceof HTMLElement))) || window.requirejs) {\n      var urls = ['https://cdn.holoviz.org/panel/0.14.1/dist/bundled/notificationarea/notyf@3/notyf.min.js'];\n      for (var i = 0; i < urls.length; i++) {\n        skip.push(urls[i])\n      }\n    }    for (var i = 0; i < js_urls.length; i++) {\n      var url = js_urls[i];\n      if (skip.indexOf(url) >= 0) {\n\tif (!window.requirejs) {\n\t  on_load();\n\t}\n\tcontinue;\n      }\n      var element = document.createElement('script');\n      element.onload = on_load;\n      element.onerror = on_error;\n      element.async = false;\n      element.src = url;\n      console.debug(\"Bokeh: injecting script tag for BokehJS library: \", url);\n      document.head.appendChild(element);\n    }\n    for (var i = 0; i < js_modules.length; i++) {\n      var url = js_modules[i];\n      if (skip.indexOf(url) >= 0) {\n\tif (!window.requirejs) {\n\t  on_load();\n\t}\n\tcontinue;\n      }\n      var element = document.createElement('script');\n      element.onload = on_load;\n      element.onerror = on_error;\n      element.async = false;\n      element.src = url;\n      element.type = \"module\";\n      console.debug(\"Bokeh: injecting script tag for BokehJS library: \", url);\n      document.head.appendChild(element);\n    }\n    if (!js_urls.length && !js_modules.length) {\n      on_load()\n    }\n  };\n\n  function inject_raw_css(css) {\n    const element = document.createElement(\"style\");\n    element.appendChild(document.createTextNode(css));\n    document.body.appendChild(element);\n  }\n\n  var js_urls = [\"https://cdn.bokeh.org/bokeh/release/bokeh-2.4.3.min.js\", \"https://cdn.bokeh.org/bokeh/release/bokeh-gl-2.4.3.min.js\", \"https://cdn.bokeh.org/bokeh/release/bokeh-widgets-2.4.3.min.js\", \"https://cdn.bokeh.org/bokeh/release/bokeh-tables-2.4.3.min.js\", \"https://cdn.bokeh.org/bokeh/release/bokeh-mathjax-2.4.3.min.js\", \"https://unpkg.com/@holoviz/panel@0.14.1/dist/panel.min.js\"];\n  var js_modules = [];\n  var css_urls = [\"https://cdn.holoviz.org/panel/0.14.1/dist/css/alerts.css\", \"https://cdn.holoviz.org/panel/0.14.1/dist/css/card.css\", \"https://cdn.holoviz.org/panel/0.14.1/dist/css/dataframe.css\", \"https://cdn.holoviz.org/panel/0.14.1/dist/css/debugger.css\", \"https://cdn.holoviz.org/panel/0.14.1/dist/css/json.css\", \"https://cdn.holoviz.org/panel/0.14.1/dist/css/loading.css\", \"https://cdn.holoviz.org/panel/0.14.1/dist/css/markdown.css\", \"https://cdn.holoviz.org/panel/0.14.1/dist/css/widgets.css\"];\n  var inline_js = [    function(Bokeh) {\n      inject_raw_css(\"\\n    .bk.pn-loading.arc:before {\\n      background-image: url(\\\"data:image/svg+xml;base64,PHN2ZyB4bWxucz0iaHR0cDovL3d3dy53My5vcmcvMjAwMC9zdmciIHN0eWxlPSJtYXJnaW46IGF1dG87IGJhY2tncm91bmQ6IG5vbmU7IGRpc3BsYXk6IGJsb2NrOyBzaGFwZS1yZW5kZXJpbmc6IGF1dG87IiB2aWV3Qm94PSIwIDAgMTAwIDEwMCIgcHJlc2VydmVBc3BlY3RSYXRpbz0ieE1pZFlNaWQiPiAgPGNpcmNsZSBjeD0iNTAiIGN5PSI1MCIgZmlsbD0ibm9uZSIgc3Ryb2tlPSIjYzNjM2MzIiBzdHJva2Utd2lkdGg9IjEwIiByPSIzNSIgc3Ryb2tlLWRhc2hhcnJheT0iMTY0LjkzMzYxNDMxMzQ2NDE1IDU2Ljk3Nzg3MTQzNzgyMTM4Ij4gICAgPGFuaW1hdGVUcmFuc2Zvcm0gYXR0cmlidXRlTmFtZT0idHJhbnNmb3JtIiB0eXBlPSJyb3RhdGUiIHJlcGVhdENvdW50PSJpbmRlZmluaXRlIiBkdXI9IjFzIiB2YWx1ZXM9IjAgNTAgNTA7MzYwIDUwIDUwIiBrZXlUaW1lcz0iMDsxIj48L2FuaW1hdGVUcmFuc2Zvcm0+ICA8L2NpcmNsZT48L3N2Zz4=\\\");\\n      background-size: auto calc(min(50%, 400px));\\n    }\\n    \");\n    },    function(Bokeh) {\n      Bokeh.set_log_level(\"info\");\n    },\nfunction(Bokeh) {} // ensure no trailing comma for IE\n  ];\n\n  function run_inline_js() {\n    if ((root.Bokeh !== undefined) || (force === true)) {\n      for (var i = 0; i < inline_js.length; i++) {\n        inline_js[i].call(root, root.Bokeh);\n      }} else if (Date.now() < root._bokeh_timeout) {\n      setTimeout(run_inline_js, 100);\n    } else if (!root._bokeh_failed_load) {\n      console.log(\"Bokeh: BokehJS failed to load within specified timeout.\");\n      root._bokeh_failed_load = true;\n    }\n  }\n\n  if (root._bokeh_is_loading === 0) {\n    console.debug(\"Bokeh: BokehJS loaded, going straight to plotting\");\n    run_inline_js();\n  } else {\n    load_libs(css_urls, js_urls, js_modules, function() {\n      console.debug(\"Bokeh: BokehJS plotting callback run at\", now());\n      run_inline_js();\n    });\n  }\n}(window));",
      "application/vnd.holoviews_load.v0+json": ""
     },
     "metadata": {},
     "output_type": "display_data"
    },
    {
     "data": {
      "application/javascript": "\nif ((window.PyViz === undefined) || (window.PyViz instanceof HTMLElement)) {\n  window.PyViz = {comms: {}, comm_status:{}, kernels:{}, receivers: {}, plot_index: []}\n}\n\n\n    function JupyterCommManager() {\n    }\n\n    JupyterCommManager.prototype.register_target = function(plot_id, comm_id, msg_handler) {\n      if (window.comm_manager || ((window.Jupyter !== undefined) && (Jupyter.notebook.kernel != null))) {\n        var comm_manager = window.comm_manager || Jupyter.notebook.kernel.comm_manager;\n        comm_manager.register_target(comm_id, function(comm) {\n          comm.on_msg(msg_handler);\n        });\n      } else if ((plot_id in window.PyViz.kernels) && (window.PyViz.kernels[plot_id])) {\n        window.PyViz.kernels[plot_id].registerCommTarget(comm_id, function(comm) {\n          comm.onMsg = msg_handler;\n        });\n      } else if (typeof google != 'undefined' && google.colab.kernel != null) {\n        google.colab.kernel.comms.registerTarget(comm_id, (comm) => {\n          var messages = comm.messages[Symbol.asyncIterator]();\n          function processIteratorResult(result) {\n            var message = result.value;\n            console.log(message)\n            var content = {data: message.data, comm_id};\n            var buffers = []\n            for (var buffer of message.buffers || []) {\n              buffers.push(new DataView(buffer))\n            }\n            var metadata = message.metadata || {};\n            var msg = {content, buffers, metadata}\n            msg_handler(msg);\n            return messages.next().then(processIteratorResult);\n          }\n          return messages.next().then(processIteratorResult);\n        })\n      }\n    }\n\n    JupyterCommManager.prototype.get_client_comm = function(plot_id, comm_id, msg_handler) {\n      if (comm_id in window.PyViz.comms) {\n        return window.PyViz.comms[comm_id];\n      } else if (window.comm_manager || ((window.Jupyter !== undefined) && (Jupyter.notebook.kernel != null))) {\n        var comm_manager = window.comm_manager || Jupyter.notebook.kernel.comm_manager;\n        var comm = comm_manager.new_comm(comm_id, {}, {}, {}, comm_id);\n        if (msg_handler) {\n          comm.on_msg(msg_handler);\n        }\n      } else if ((plot_id in window.PyViz.kernels) && (window.PyViz.kernels[plot_id])) {\n        var comm = window.PyViz.kernels[plot_id].connectToComm(comm_id);\n        comm.open();\n        if (msg_handler) {\n          comm.onMsg = msg_handler;\n        }\n      } else if (typeof google != 'undefined' && google.colab.kernel != null) {\n        var comm_promise = google.colab.kernel.comms.open(comm_id)\n        comm_promise.then((comm) => {\n          window.PyViz.comms[comm_id] = comm;\n          if (msg_handler) {\n            var messages = comm.messages[Symbol.asyncIterator]();\n            function processIteratorResult(result) {\n              var message = result.value;\n              var content = {data: message.data};\n              var metadata = message.metadata || {comm_id};\n              var msg = {content, metadata}\n              msg_handler(msg);\n              return messages.next().then(processIteratorResult);\n            }\n            return messages.next().then(processIteratorResult);\n          }\n        }) \n        var sendClosure = (data, metadata, buffers, disposeOnDone) => {\n          return comm_promise.then((comm) => {\n            comm.send(data, metadata, buffers, disposeOnDone);\n          });\n        };\n        var comm = {\n          send: sendClosure\n        };\n      }\n      window.PyViz.comms[comm_id] = comm;\n      return comm;\n    }\n    window.PyViz.comm_manager = new JupyterCommManager();\n    \n\n\nvar JS_MIME_TYPE = 'application/javascript';\nvar HTML_MIME_TYPE = 'text/html';\nvar EXEC_MIME_TYPE = 'application/vnd.holoviews_exec.v0+json';\nvar CLASS_NAME = 'output';\n\n/**\n * Render data to the DOM node\n */\nfunction render(props, node) {\n  var div = document.createElement(\"div\");\n  var script = document.createElement(\"script\");\n  node.appendChild(div);\n  node.appendChild(script);\n}\n\n/**\n * Handle when a new output is added\n */\nfunction handle_add_output(event, handle) {\n  var output_area = handle.output_area;\n  var output = handle.output;\n  if ((output.data == undefined) || (!output.data.hasOwnProperty(EXEC_MIME_TYPE))) {\n    return\n  }\n  var id = output.metadata[EXEC_MIME_TYPE][\"id\"];\n  var toinsert = output_area.element.find(\".\" + CLASS_NAME.split(' ')[0]);\n  if (id !== undefined) {\n    var nchildren = toinsert.length;\n    var html_node = toinsert[nchildren-1].children[0];\n    html_node.innerHTML = output.data[HTML_MIME_TYPE];\n    var scripts = [];\n    var nodelist = html_node.querySelectorAll(\"script\");\n    for (var i in nodelist) {\n      if (nodelist.hasOwnProperty(i)) {\n        scripts.push(nodelist[i])\n      }\n    }\n\n    scripts.forEach( function (oldScript) {\n      var newScript = document.createElement(\"script\");\n      var attrs = [];\n      var nodemap = oldScript.attributes;\n      for (var j in nodemap) {\n        if (nodemap.hasOwnProperty(j)) {\n          attrs.push(nodemap[j])\n        }\n      }\n      attrs.forEach(function(attr) { newScript.setAttribute(attr.name, attr.value) });\n      newScript.appendChild(document.createTextNode(oldScript.innerHTML));\n      oldScript.parentNode.replaceChild(newScript, oldScript);\n    });\n    if (JS_MIME_TYPE in output.data) {\n      toinsert[nchildren-1].children[1].textContent = output.data[JS_MIME_TYPE];\n    }\n    output_area._hv_plot_id = id;\n    if ((window.Bokeh !== undefined) && (id in Bokeh.index)) {\n      window.PyViz.plot_index[id] = Bokeh.index[id];\n    } else {\n      window.PyViz.plot_index[id] = null;\n    }\n  } else if (output.metadata[EXEC_MIME_TYPE][\"server_id\"] !== undefined) {\n    var bk_div = document.createElement(\"div\");\n    bk_div.innerHTML = output.data[HTML_MIME_TYPE];\n    var script_attrs = bk_div.children[0].attributes;\n    for (var i = 0; i < script_attrs.length; i++) {\n      toinsert[toinsert.length - 1].childNodes[1].setAttribute(script_attrs[i].name, script_attrs[i].value);\n    }\n    // store reference to server id on output_area\n    output_area._bokeh_server_id = output.metadata[EXEC_MIME_TYPE][\"server_id\"];\n  }\n}\n\n/**\n * Handle when an output is cleared or removed\n */\nfunction handle_clear_output(event, handle) {\n  var id = handle.cell.output_area._hv_plot_id;\n  var server_id = handle.cell.output_area._bokeh_server_id;\n  if (((id === undefined) || !(id in PyViz.plot_index)) && (server_id !== undefined)) { return; }\n  var comm = window.PyViz.comm_manager.get_client_comm(\"hv-extension-comm\", \"hv-extension-comm\", function () {});\n  if (server_id !== null) {\n    comm.send({event_type: 'server_delete', 'id': server_id});\n    return;\n  } else if (comm !== null) {\n    comm.send({event_type: 'delete', 'id': id});\n  }\n  delete PyViz.plot_index[id];\n  if ((window.Bokeh !== undefined) & (id in window.Bokeh.index)) {\n    var doc = window.Bokeh.index[id].model.document\n    doc.clear();\n    const i = window.Bokeh.documents.indexOf(doc);\n    if (i > -1) {\n      window.Bokeh.documents.splice(i, 1);\n    }\n  }\n}\n\n/**\n * Handle kernel restart event\n */\nfunction handle_kernel_cleanup(event, handle) {\n  delete PyViz.comms[\"hv-extension-comm\"];\n  window.PyViz.plot_index = {}\n}\n\n/**\n * Handle update_display_data messages\n */\nfunction handle_update_output(event, handle) {\n  handle_clear_output(event, {cell: {output_area: handle.output_area}})\n  handle_add_output(event, handle)\n}\n\nfunction register_renderer(events, OutputArea) {\n  function append_mime(data, metadata, element) {\n    // create a DOM node to render to\n    var toinsert = this.create_output_subarea(\n    metadata,\n    CLASS_NAME,\n    EXEC_MIME_TYPE\n    );\n    this.keyboard_manager.register_events(toinsert);\n    // Render to node\n    var props = {data: data, metadata: metadata[EXEC_MIME_TYPE]};\n    render(props, toinsert[0]);\n    element.append(toinsert);\n    return toinsert\n  }\n\n  events.on('output_added.OutputArea', handle_add_output);\n  events.on('output_updated.OutputArea', handle_update_output);\n  events.on('clear_output.CodeCell', handle_clear_output);\n  events.on('delete.Cell', handle_clear_output);\n  events.on('kernel_ready.Kernel', handle_kernel_cleanup);\n\n  OutputArea.prototype.register_mime_type(EXEC_MIME_TYPE, append_mime, {\n    safe: true,\n    index: 0\n  });\n}\n\nif (window.Jupyter !== undefined) {\n  try {\n    var events = require('base/js/events');\n    var OutputArea = require('notebook/js/outputarea').OutputArea;\n    if (OutputArea.prototype.mime_types().indexOf(EXEC_MIME_TYPE) == -1) {\n      register_renderer(events, OutputArea);\n    }\n  } catch(err) {\n  }\n}\n",
      "application/vnd.holoviews_load.v0+json": ""
     },
     "metadata": {},
     "output_type": "display_data"
    },
    {
     "data": {
      "text/html": [
       "<style>.bk-root, .bk-root .bk:before, .bk-root .bk:after {\n",
       "  font-family: var(--jp-ui-font-size1);\n",
       "  font-size: var(--jp-ui-font-size1);\n",
       "  color: var(--jp-ui-font-color1);\n",
       "}\n",
       "</style>"
      ]
     },
     "metadata": {},
     "output_type": "display_data"
    },
    {
     "data": {
      "application/vnd.jupyter.widget-view+json": {
       "model_id": "9266959519a940eab02fc214f38a319e",
       "version_major": 2,
       "version_minor": 0
      },
      "text/plain": [
       "BokehModel(combine_events=True, render_bundle={'docs_json': {'822a1e30-2126-4fdb-9820-2c2f249fce62': {'defs': …"
      ]
     },
     "execution_count": 42,
     "metadata": {},
     "output_type": "execute_result"
    }
   ],
   "source": [
    "from bokeh.sampledata.iris import flowers\n",
    "from bokeh.plotting import show, figure\n",
    "import panel as pn\n",
    "pn.extension()\n",
    "def flowers_plot(x_axis, interpolated_method): \n",
    "\n",
    "\n",
    "    p = figure(title = 'Interpolated glucose values')\n",
    "    p.scatter(x = df.time, y = df.glucose, color = 'black')\n",
    "    randomcolor=list(np.random.choice(range(0, 255, 20),size=3))\n",
    "    p.line(x=df.time, y=df[interpolated_method], color = randomcolor)\n",
    "    \n",
    "    p.xaxis.axis_label = 'time'\n",
    "    p.yaxis.axis_label = 'Glucose level'\n",
    "    p.grid.grid_line_color=\"lightgray\"\n",
    "\n",
    "\n",
    "\n",
    "\n",
    "    return p\n",
    "    \n",
    "\n",
    "columns = df.columns[4:]\n",
    "columns\n",
    "# creating an interactive user interface object \n",
    "plot = pn.interact(flowers_plot, x_axis='time', interpolated_method=columns)\n",
    "plot"
   ]
  }
 ],
 "metadata": {
  "kernelspec": {
   "display_name": "Python 3.11.0 64-bit",
   "language": "python",
   "name": "python3"
  },
  "language_info": {
   "codemirror_mode": {
    "name": "ipython",
    "version": 3
   },
   "file_extension": ".py",
   "mimetype": "text/x-python",
   "name": "python",
   "nbconvert_exporter": "python",
   "pygments_lexer": "ipython3",
   "version": "3.11.0"
  },
  "vscode": {
   "interpreter": {
    "hash": "108095e740c160118120ad5e22811b4aca9f414a6f3c55c969835bc2c10848d1"
   }
  }
 },
 "nbformat": 4,
 "nbformat_minor": 4
}
